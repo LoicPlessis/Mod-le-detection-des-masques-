{
  "nbformat": 4,
  "nbformat_minor": 0,
  "metadata": {
    "colab": {
      "name": "Untitled7.ipynb",
      "provenance": [],
      "collapsed_sections": []
    },
    "kernelspec": {
      "name": "python3",
      "display_name": "Python 3"
    },
    "language_info": {
      "name": "python"
    },
    "accelerator": "GPU"
  },
  "cells": [
    {
      "cell_type": "markdown",
      "source": [
        "# <center> Modèle intelligent pour la détection des masques</center>"
      ],
      "metadata": {
        "id": "xNpXhFPDs57C"
      }
    },
    {
      "cell_type": "markdown",
      "source": [
        "## Partie 1 : Base de données, Analyse et Préparation"
      ],
      "metadata": {
        "id": "Wtsnw3SRs1n3"
      }
    },
    {
      "cell_type": "code",
      "execution_count": 1,
      "metadata": {
        "id": "n9tUEuYqWdMz"
      },
      "outputs": [],
      "source": [
        "import pandas as pd\n",
        "import numpy as np \n",
        "import os\n",
        "import struct\n",
        "import sys\n",
        "from tqdm import tqdm\n",
        "import cv2\n",
        "from sklearn.model_selection import train_test_split\n",
        "from PIL import Image \n",
        "import matplotlib.pyplot as plt\n",
        "import tensorflow as tf"
      ]
    },
    {
      "cell_type": "code",
      "source": [
        "directory = \"/content/drive/MyDrive/Mask_Data/with_mask/\"\n",
        "\n",
        "X = []\n",
        "# liste pour enregistrer les labels\n",
        "y = []\n",
        "# l va servir à numéroter les labels : dans la boucle, l s'incrémente de 1 à chaque passage \n",
        "l = 1\n",
        "\n",
        "for x in tqdm(os.listdir(directory)):\n",
        "    image = cv2.imread(directory + x)\n",
        "    # on resize\n",
        "    image = cv2.resize(image,(224,224), interpolation = cv2.INTER_AREA)\n",
        "    X.append(image)\n",
        "    y.append(l)"
      ],
      "metadata": {
        "colab": {
          "base_uri": "https://localhost:8080/"
        },
        "id": "R2sO0uMkXJFp",
        "outputId": "9f088f7f-3840-4fe2-bc7d-76a3a2d28358"
      },
      "execution_count": 2,
      "outputs": [
        {
          "output_type": "stream",
          "name": "stderr",
          "text": [
            "100%|██████████| 755/755 [00:18<00:00, 41.09it/s]\n"
          ]
        }
      ]
    },
    {
      "cell_type": "code",
      "source": [
        "directory = \"/content/drive/MyDrive/Mask_Data/without_mask/\"\n",
        "\n",
        "\n",
        "l= 0\n",
        "\n",
        "for x in tqdm(os.listdir(directory)):\n",
        "    image = cv2.imread(directory + x)\n",
        "    # on resize\n",
        "    image = cv2.resize(image,(224,224), interpolation = cv2.INTER_AREA)\n",
        "    X.append(image)\n",
        "    y.append(l)"
      ],
      "metadata": {
        "colab": {
          "base_uri": "https://localhost:8080/"
        },
        "id": "p_LR2kUbXf85",
        "outputId": "ae99c0ea-2e97-477f-951b-159ae9c568c6"
      },
      "execution_count": 3,
      "outputs": [
        {
          "output_type": "stream",
          "name": "stderr",
          "text": [
            "100%|██████████| 753/753 [00:13<00:00, 54.05it/s]\n"
          ]
        }
      ]
    },
    {
      "cell_type": "code",
      "source": [
        "X = np.array(X)/255\n",
        "y = np.array(y)"
      ],
      "metadata": {
        "id": "UwTXUc6RYz3m"
      },
      "execution_count": 4,
      "outputs": []
    },
    {
      "cell_type": "code",
      "source": [
        "# to_categorical\n",
        "\n",
        "y_cat = tf.keras.utils.to_categorical(y, num_classes=None)"
      ],
      "metadata": {
        "id": "yx6da_E7iP9g"
      },
      "execution_count": 5,
      "outputs": []
    },
    {
      "cell_type": "markdown",
      "source": [
        "## Séparation du jeu de données"
      ],
      "metadata": {
        "id": "OKKSLIfAidQX"
      }
    },
    {
      "cell_type": "code",
      "source": [
        "# train_test_split\n",
        "\n",
        "from sklearn.model_selection import train_test_split\n",
        "\n",
        "X_train, X_test, y_train, y_test = train_test_split(X, y_cat, test_size=0.20)\n",
        "\n",
        "X_train = np.array(X_train)\n",
        "y_train = np.array(y_train)"
      ],
      "metadata": {
        "id": "DNwYUxEoY6N1"
      },
      "execution_count": 6,
      "outputs": []
    },
    {
      "cell_type": "code",
      "source": [
        "# Création du jeu de validation\n",
        "X_train_val, X_val, y_train_val, y_val = train_test_split(X_train, y_train, test_size=0.10, random_state=1)\n",
        "X_train_val.shape, X_val.shape, y_train_val.shape, y_val.shape\n",
        "\n",
        "X_train_val = np.array(X_train_val)\n",
        "y_train_val = np.array(y_train_val)"
      ],
      "metadata": {
        "id": "dNzeuusJVjO1"
      },
      "execution_count": 7,
      "outputs": []
    },
    {
      "cell_type": "code",
      "source": [
        "# # Séparation du jeu de donnée\n",
        "# from sklearn.model_selection import train_test_split\n",
        "# X_train_cat, X_test_cat, y_train_cat, y_test_cat = train_test_split(X, y_cat, test_size = 0.2, random_state = 0)\n",
        "# X_train_cat.shape, X_test_cat.shape, y_train_cat.shape, y_test_cat.shape"
      ],
      "metadata": {
        "id": "rBBZZ2tijApf"
      },
      "execution_count": 8,
      "outputs": []
    },
    {
      "cell_type": "code",
      "source": [
        "# # Création du jeu de validation\n",
        "# X_train_val_cat, X_val_cat, y_train_val_cat, y_val_cat = train_test_split(X_train_cat, y_train_cat, test_size=0.10, random_state=1)\n",
        "# X_train_val_cat.shape, X_val_cat.shape, y_train_val_cat.shape, y_val_cat.shape"
      ],
      "metadata": {
        "id": "oPy_NnI5jDNn"
      },
      "execution_count": 9,
      "outputs": []
    },
    {
      "cell_type": "code",
      "source": [
        "X_train = np.array(X_train)\n",
        "y_train = np.array(y_train)"
      ],
      "metadata": {
        "id": "zzZOerCnf2OL"
      },
      "execution_count": 12,
      "outputs": []
    },
    {
      "cell_type": "code",
      "source": [
        "## Data transformation\n",
        "\n",
        "from keras.applications.vgg16 import preprocess_input\n",
        "from keras.preprocessing.image import ImageDataGenerator\n",
        "\n",
        "train_data_generator = ImageDataGenerator(\n",
        "        \n",
        "        # data augmentation\n",
        "        rotation_range = 10,\n",
        "        width_shift_range = 0.1,\n",
        "        height_shift_range = 0.1,\n",
        "        zoom_range = 1.1,\n",
        "        horizontal_flip = True\n",
        "        )\n",
        "\n",
        "data_gen = train_data_generator.flow(X_train, y_train, batch_size = 64)"
      ],
      "metadata": {
        "id": "1oZD510CUk4m"
      },
      "execution_count": 13,
      "outputs": []
    },
    {
      "cell_type": "code",
      "source": [
        "class_names = [\"0\", \"1\"]\n",
        "\n",
        "plt.figure(figsize=(10,10))\n",
        "for i in range(25):\n",
        "    plt.subplot(5,5,i+1)\n",
        "    plt.xticks([])\n",
        "    plt.yticks([])\n",
        "    plt.grid(False)\n",
        "    plt.imshow(X_train[i])\n",
        "\n",
        "    plt.xlabel(class_names[y_train[i]])\n",
        "plt.show()"
      ],
      "metadata": {
        "colab": {
          "base_uri": "https://localhost:8080/",
          "height": 329
        },
        "id": "ovq0FYlIY7OE",
        "outputId": "122a733c-06f7-459f-dcb5-7af442ee128a"
      },
      "execution_count": 14,
      "outputs": [
        {
          "output_type": "error",
          "ename": "TypeError",
          "evalue": "ignored",
          "traceback": [
            "\u001b[0;31m---------------------------------------------------------------------------\u001b[0m",
            "\u001b[0;31mTypeError\u001b[0m                                 Traceback (most recent call last)",
            "\u001b[0;32m<ipython-input-14-ca6420ab6af4>\u001b[0m in \u001b[0;36m<module>\u001b[0;34m()\u001b[0m\n\u001b[1;32m      9\u001b[0m     \u001b[0mplt\u001b[0m\u001b[0;34m.\u001b[0m\u001b[0mimshow\u001b[0m\u001b[0;34m(\u001b[0m\u001b[0mX_train\u001b[0m\u001b[0;34m[\u001b[0m\u001b[0mi\u001b[0m\u001b[0;34m]\u001b[0m\u001b[0;34m)\u001b[0m\u001b[0;34m\u001b[0m\u001b[0;34m\u001b[0m\u001b[0m\n\u001b[1;32m     10\u001b[0m \u001b[0;34m\u001b[0m\u001b[0m\n\u001b[0;32m---> 11\u001b[0;31m     \u001b[0mplt\u001b[0m\u001b[0;34m.\u001b[0m\u001b[0mxlabel\u001b[0m\u001b[0;34m(\u001b[0m\u001b[0mclass_names\u001b[0m\u001b[0;34m[\u001b[0m\u001b[0my_train\u001b[0m\u001b[0;34m[\u001b[0m\u001b[0mi\u001b[0m\u001b[0;34m]\u001b[0m\u001b[0;34m]\u001b[0m\u001b[0;34m)\u001b[0m\u001b[0;34m\u001b[0m\u001b[0;34m\u001b[0m\u001b[0m\n\u001b[0m\u001b[1;32m     12\u001b[0m \u001b[0mplt\u001b[0m\u001b[0;34m.\u001b[0m\u001b[0mshow\u001b[0m\u001b[0;34m(\u001b[0m\u001b[0;34m)\u001b[0m\u001b[0;34m\u001b[0m\u001b[0;34m\u001b[0m\u001b[0m\n",
            "\u001b[0;31mTypeError\u001b[0m: only integer scalar arrays can be converted to a scalar index"
          ]
        },
        {
          "output_type": "display_data",
          "data": {
            "text/plain": [
              "<Figure size 720x720 with 1 Axes>"
            ],
            "image/png": "[encoded data removed]"
          },
          "metadata": {}
        }
      ]
    },
    {
      "cell_type": "markdown",
      "source": [
        "## Partie 2 : Architecture CNN sur Tensorflow\n"
      ],
      "metadata": {
        "id": "5jGsawCKsq-l"
      }
    },
    {
      "cell_type": "code",
      "source": [
        "import keras,os\n",
        "from keras.models import Sequential\n",
        "from keras.layers import Dense, Conv2D, MaxPool2D , Flatten\n",
        "from keras.preprocessing.image import ImageDataGenerator\n",
        "import tensorflow as tf\n",
        "from keras.optimizer_v2 import adam as adam_v2\n",
        "from keras.models import Model, Sequential\n",
        "from keras import backend as K\n",
        "from keras.applications.vgg16 import VGG16"
      ],
      "metadata": {
        "id": "zPNEBfm5ZEHs"
      },
      "execution_count": 15,
      "outputs": []
    },
    {
      "cell_type": "code",
      "source": [
        "# Modèle VGG16\n",
        "# base_model = VGG16(weights='imagenet', include_top=True) \n",
        "base_model = VGG16(weights='imagenet', include_top=False, input_shape=(224, 224, 3)) \n",
        "\n",
        "# Freezer les couches du VGG16\n",
        "for layer in base_model.layers: \n",
        "    layer.trainable = False"
      ],
      "metadata": {
        "id": "_aJpkmAsZZsE",
        "colab": {
          "base_uri": "https://localhost:8080/"
        },
        "outputId": "925ab41f-bd90-4dfd-a938-a9af281f9f4b"
      },
      "execution_count": 16,
      "outputs": [
        {
          "output_type": "stream",
          "name": "stdout",
          "text": [
            "Downloading data from https://storage.googleapis.com/tensorflow/keras-applications/vgg16/vgg16_weights_tf_dim_ordering_tf_kernels_notop.h5\n",
            "58892288/58889256 [==============================] - 0s 0us/step\n",
            "58900480/58889256 [==============================] - 0s 0us/step\n"
          ]
        }
      ]
    },
    {
      "cell_type": "code",
      "source": [
        "num_classes = 2\n",
        "\n",
        "model = tf.keras.Sequential([\n",
        "    base_model,\n",
        "    Flatten(),  \n",
        "    Dense(4096,activation='relu'),\n",
        "    Dense(4096, activation='relu'),\n",
        "    Dense(num_classes, activation='softmax')   \n",
        "    ])\n",
        "\n",
        "model.summary()"
      ],
      "metadata": {
        "colab": {
          "base_uri": "https://localhost:8080/"
        },
        "id": "5CLPVQSFkrnY",
        "outputId": "005fa139-aa46-43d3-da1b-cc0d03f29740"
      },
      "execution_count": 17,
      "outputs": [
        {
          "output_type": "stream",
          "name": "stdout",
          "text": [
            "Model: \"sequential\"\n",
            "_________________________________________________________________\n",
            " Layer (type)                Output Shape              Param #   \n",
            "=================================================================\n",
            " vgg16 (Functional)          (None, 7, 7, 512)         14714688  \n",
            "                                                                 \n",
            " flatten (Flatten)           (None, 25088)             0         \n",
            "                                                                 \n",
            " dense (Dense)               (None, 4096)              102764544 \n",
            "                                                                 \n",
            " dense_1 (Dense)             (None, 4096)              16781312  \n",
            "                                                                 \n",
            " dense_2 (Dense)             (None, 2)                 8194      \n",
            "                                                                 \n",
            "=================================================================\n",
            "Total params: 134,268,738\n",
            "Trainable params: 119,554,050\n",
            "Non-trainable params: 14,714,688\n",
            "_________________________________________________________________\n"
          ]
        }
      ]
    },
    {
      "cell_type": "code",
      "source": [
        "model.compile(optimizer='adam', \n",
        "              loss = tf.keras.losses.CategoricalCrossentropy(from_logits=True), \n",
        "              metrics=['accuracy'])\n",
        "\n",
        "# Compile le modèle\n",
        "# model.compile(\n",
        "#     loss=\"sparse_categorical_crossentropy\",    #quand il y a plus d'un label(classes)\n",
        "#     optimizer=\"Adam\",                #descente de gradient\n",
        "#     metrics=[\"accuracy\"])      #performance"
      ],
      "metadata": {
        "id": "wBb_c-v-kunL"
      },
      "execution_count": 18,
      "outputs": []
    },
    {
      "cell_type": "code",
      "source": [
        "from keras.callbacks import ModelCheckpoint, EarlyStopping\n",
        "\n",
        "checkpoint = ModelCheckpoint(\"vgg16_1.h5\", monitor='val_accuracy', verbose=1, save_best_only=True, save_weights_only=False, mode='auto', period=1)\n",
        "# early = EarlyStopping(monitor='val_acc', min_delta=0, patience=20, verbose=1, mode='auto')\n",
        "\n",
        "history = model.fit(data_gen,  \n",
        "                    epochs=5, \n",
        "                    validation_data = (X_train_val, y_train_val), \n",
        "                    callbacks=[checkpoint])"
      ],
      "metadata": {
        "colab": {
          "base_uri": "https://localhost:8080/"
        },
        "id": "f88WXtDfmjZ1",
        "outputId": "55ad3cfd-4fa3-43f4-b7ba-562ded08605d"
      },
      "execution_count": 19,
      "outputs": [
        {
          "output_type": "stream",
          "name": "stdout",
          "text": [
            "WARNING:tensorflow:`period` argument is deprecated. Please use `save_freq` to specify the frequency in number of batches seen.\n",
            "Epoch 1/5\n"
          ]
        },
        {
          "output_type": "stream",
          "name": "stderr",
          "text": [
            "/usr/local/lib/python3.7/dist-packages/tensorflow/python/util/dispatch.py:1082: UserWarning: \"`categorical_crossentropy` received `from_logits=True`, but the `output` argument was produced by a sigmoid or softmax activation and thus does not represent logits. Was this intended?\"\n",
            "  return dispatch_target(*args, **kwargs)\n"
          ]
        },
        {
          "output_type": "stream",
          "name": "stdout",
          "text": [
            "19/19 [==============================] - ETA: 0s - loss: 8.2053 - accuracy: 0.5464\n",
            "Epoch 1: val_accuracy improved from -inf to 0.66544, saving model to vgg16_1.h5\n",
            "19/19 [==============================] - 68s 3s/step - loss: 8.2053 - accuracy: 0.5464 - val_loss: 0.4848 - val_accuracy: 0.6654\n",
            "Epoch 2/5\n",
            "19/19 [==============================] - ETA: 0s - loss: 0.5020 - accuracy: 0.7264\n",
            "Epoch 2: val_accuracy improved from 0.66544 to 0.98065, saving model to vgg16_1.h5\n",
            "19/19 [==============================] - 39s 2s/step - loss: 0.5020 - accuracy: 0.7264 - val_loss: 0.0735 - val_accuracy: 0.9806\n",
            "Epoch 3/5\n",
            "19/19 [==============================] - ETA: 0s - loss: 0.2844 - accuracy: 0.8698\n",
            "Epoch 3: val_accuracy improved from 0.98065 to 0.98618, saving model to vgg16_1.h5\n",
            "19/19 [==============================] - 38s 2s/step - loss: 0.2844 - accuracy: 0.8698 - val_loss: 0.0407 - val_accuracy: 0.9862\n",
            "Epoch 4/5\n",
            "19/19 [==============================] - ETA: 0s - loss: 0.2324 - accuracy: 0.8988\n",
            "Epoch 4: val_accuracy improved from 0.98618 to 0.99263, saving model to vgg16_1.h5\n",
            "19/19 [==============================] - 37s 2s/step - loss: 0.2324 - accuracy: 0.8988 - val_loss: 0.0217 - val_accuracy: 0.9926\n",
            "Epoch 5/5\n",
            "19/19 [==============================] - ETA: 0s - loss: 0.2438 - accuracy: 0.8955\n",
            "Epoch 5: val_accuracy did not improve from 0.99263\n",
            "19/19 [==============================] - 31s 2s/step - loss: 0.2438 - accuracy: 0.8955 - val_loss: 0.0218 - val_accuracy: 0.9917\n"
          ]
        }
      ]
    },
    {
      "cell_type": "code",
      "source": [
        "# model.save('model.h5')\n",
        "\n",
        "loaded_model = tf.keras.models.load_model('vgg16_1.h5')"
      ],
      "metadata": {
        "id": "8aHeQIO6qzGa"
      },
      "execution_count": null,
      "outputs": []
    },
    {
      "cell_type": "markdown",
      "source": [
        "## Visualisations"
      ],
      "metadata": {
        "id": "gFBMwK5irD-G"
      }
    },
    {
      "cell_type": "code",
      "source": [
        "import matplotlib.pyplot as plt\n",
        "\n",
        "plt.plot(history.history['accuracy'])\n",
        "plt.plot(history.history['val_accuracy'])\n",
        "plt.plot(history.history['loss'])\n",
        "plt.plot(history.history['val_loss'])\n",
        "plt.title(\"Accuracy du modèle\")\n",
        "plt.ylabel(\"Accuracy\")\n",
        "plt.xlabel(\"Epoch\")\n",
        "plt.legend([\"Accuracy\",\"Validation Accuracy\",\"loss\",\"Validation Loss\"])\n",
        "plt.show()"
      ],
      "metadata": {
        "colab": {
          "base_uri": "https://localhost:8080/",
          "height": 295
        },
        "id": "rKgRARHNHRsy",
        "outputId": "a22255b9-445d-48f4-fae4-3079726e1144"
      },
      "execution_count": null,
      "outputs": [
        {
          "output_type": "display_data",
          "data": {
            "text/plain": [
              "<Figure size 432x288 with 1 Axes>"
            ],
            "image/png": "[encoded data removed]"
          },
          "metadata": {
            "needs_background": "light"
          }
        }
      ]
    },
    {
      "cell_type": "code",
      "source": [
        "plt.plot(history.history['val_loss'], label = \"val_loss\")\n",
        "plt.plot(history.history['loss'], label = \"loss\")\n",
        "plt.xlabel('Epoch')\n",
        "plt.ylabel(\"Loss\")\n",
        "plt.legend(loc = \"upper right\")\n",
        "plt.title(\"Loss value by epoch\")\n",
        "\n",
        "plt.show()"
      ],
      "metadata": {
        "colab": {
          "base_uri": "https://localhost:8080/",
          "height": 295
        },
        "id": "Wyb2mSe2Lwf0",
        "outputId": "96ac215f-67a6-4c9e-8086-d56366206957"
      },
      "execution_count": null,
      "outputs": [
        {
          "output_type": "display_data",
          "data": {
            "text/plain": [
              "<Figure size 432x288 with 1 Axes>"
            ],
            "image/png": "[encoded data removed]"
          },
          "metadata": {
            "needs_background": "light"
          }
        }
      ]
    },
    {
      "cell_type": "markdown",
      "source": [
        "### Matrice de confusion"
      ],
      "metadata": {
        "id": "ksMJ8qy4rIYh"
      }
    },
    {
      "cell_type": "code",
      "source": [
        "from sklearn.metrics import classification_report, confusion_matrix\n",
        "\n",
        "predictions = model.predict(X_test)\n",
        "\n",
        "y_test_arg =np.argmax(y_test,axis=1)\n",
        "y_pred = np.argmax(predictions,axis=1)\n",
        "\n",
        "cf_matrix =  confusion_matrix(y_test_arg, y_pred)\n",
        "print(cf_matrix)\n",
        "\n",
        "print(classification_report(y_test_arg, y_pred))"
      ],
      "metadata": {
        "colab": {
          "base_uri": "https://localhost:8080/"
        },
        "id": "JmnWMMPdhgO-",
        "outputId": "e577a590-04e0-4637-856f-db0f82470d71"
      },
      "execution_count": 39,
      "outputs": [
        {
          "output_type": "stream",
          "name": "stdout",
          "text": [
            "[[146   1]\n",
            " [  6 149]]\n",
            "              precision    recall  f1-score   support\n",
            "\n",
            "           0       0.96      0.99      0.98       147\n",
            "           1       0.99      0.96      0.98       155\n",
            "\n",
            "    accuracy                           0.98       302\n",
            "   macro avg       0.98      0.98      0.98       302\n",
            "weighted avg       0.98      0.98      0.98       302\n",
            "\n"
          ]
        }
      ]
    },
    {
      "cell_type": "code",
      "source": [
        "import seaborn as sns\n",
        "\n",
        "sns.heatmap(cf_matrix, annot=True, fmt=\"d\")"
      ],
      "metadata": {
        "colab": {
          "base_uri": "https://localhost:8080/",
          "height": 283
        },
        "id": "3wOUl57QmW1o",
        "outputId": "c85b61f7-834e-480b-c209-530f71581c98"
      },
      "execution_count": 46,
      "outputs": [
        {
          "output_type": "execute_result",
          "data": {
            "text/plain": [
              "<matplotlib.axes._subplots.AxesSubplot at 0x7fec8fc1a510>"
            ]
          },
          "metadata": {},
          "execution_count": 46
        },
        {
          "output_type": "display_data",
          "data": {
            "text/plain": [
              "<Figure size 432x288 with 2 Axes>"
            ],
            "image/png": "[encoded data removed]"
          },
          "metadata": {
            "needs_background": "light"
          }
        }
      ]
    },
    {
      "cell_type": "code",
      "source": [
        "sns.heatmap(cf_matrix/np.sum(cf_matrix), annot=True, \n",
        "            fmt='.2%', cmap='Blues')"
      ],
      "metadata": {
        "colab": {
          "base_uri": "https://localhost:8080/",
          "height": 283
        },
        "id": "6VbytzEWn6pJ",
        "outputId": "e45be609-f534-434a-9c39-891170726eac"
      },
      "execution_count": 41,
      "outputs": [
        {
          "output_type": "execute_result",
          "data": {
            "text/plain": [
              "<matplotlib.axes._subplots.AxesSubplot at 0x7fecfc173ed0>"
            ]
          },
          "metadata": {},
          "execution_count": 41
        },
        {
          "output_type": "display_data",
          "data": {
            "text/plain": [
              "<Figure size 432x288 with 2 Axes>"
            ],
            "image/png": "[encoded data removed]"
          },
          "metadata": {
            "needs_background": "light"
          }
        }
      ]
    },
    {
      "cell_type": "code",
      "source": [
        "labels = [\"True Neg\",\"False Pos\",\"False Neg\" ,\"True Pos\" ]\n",
        "labels = np.asarray(labels).reshape(2,2)\n",
        "sns.heatmap(cf_matrix, annot=labels, fmt=\"\", cmap='Blues')"
      ],
      "metadata": {
        "colab": {
          "base_uri": "https://localhost:8080/",
          "height": 283
        },
        "id": "tg1hkkLaoCUh",
        "outputId": "87409175-0c92-457f-b64a-9e6f1e9b4f6b"
      },
      "execution_count": 45,
      "outputs": [
        {
          "output_type": "execute_result",
          "data": {
            "text/plain": [
              "<matplotlib.axes._subplots.AxesSubplot at 0x7fecfc038dd0>"
            ]
          },
          "metadata": {},
          "execution_count": 45
        },
        {
          "output_type": "display_data",
          "data": {
            "text/plain": [
              "<Figure size 432x288 with 2 Axes>"
            ],
            "image/png": "[encoded data removed]"
          },
          "metadata": {
            "needs_background": "light"
          }
        }
      ]
    },
    {
      "cell_type": "markdown",
      "source": [
        "## Partie 3 : Application"
      ],
      "metadata": {
        "id": "URy9mQcR3Cbm"
      }
    },
    {
      "cell_type": "code",
      "source": [
        "# cv2.putText(Img, message, (x, y), cv2.FONT_HERSHEY_SIMPLEX, .5, (0,0,0))) "
      ],
      "metadata": {
        "id": "8aJ1VyNftuGs"
      },
      "execution_count": null,
      "outputs": []
    },
    {
      "cell_type": "code",
      "source": [
        "from keras.preprocessing import image\n",
        "from keras.applications.vgg16 import preprocess_input, decode_predictions\n",
        "\n",
        "img_path = '/content/drive/MyDrive/Jeff.PNG'\n",
        "img = image.load_img(img_path, target_size=(224, 224))\n",
        "x = image.img_to_array(img)\n",
        "x = np.expand_dims(x, axis=0)\n",
        "\n",
        "\n",
        "\n",
        "preds = model.predict(x)\n",
        "pred = np.argmax(preds)\n",
        "if pred == 0 :\n",
        "  print(\"Sans masque\")\n",
        "else :\n",
        "  print(\"Avec masque\")\n",
        "\n"
      ],
      "metadata": {
        "colab": {
          "base_uri": "https://localhost:8080/"
        },
        "id": "E0Opp_9q5Ani",
        "outputId": "deb55a9c-0c6e-4b1e-da77-c3c7c754d327"
      },
      "execution_count": null,
      "outputs": [
        {
          "output_type": "stream",
          "name": "stdout",
          "text": [
            "Sans masque\n"
          ]
        }
      ]
    },
    {
      "cell_type": "code",
      "source": [
        ""
      ],
      "metadata": {
        "id": "mtICyKhzJ1pp"
      },
      "execution_count": null,
      "outputs": []
    }
  ]
}